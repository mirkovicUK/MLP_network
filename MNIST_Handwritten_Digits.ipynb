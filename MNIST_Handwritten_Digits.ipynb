{
 "cells": [
  {
   "cell_type": "markdown",
   "metadata": {},
   "source": [
    "# Introduction\n",
    "\n",
    "In this project, you will build a neural network of your own design to evaluate the MNIST dataset.\n",
    "\n",
    "Some of the benchmark results on MNIST include can be found [on Yann LeCun's page](http://yann.lecun.com/exdb/mnist/) and include:\n",
    "\n",
    "88% [Lecun et al., 1998](http://yann.lecun.com/exdb/publis/pdf/lecun-98.pdf)\n",
    "95.3% [Lecun et al., 1998](http://yann.lecun.com/exdb/publis/pdf/lecun-98.pdf)\n",
    "99.65% [Ciresan et al., 2011](http://people.idsia.ch/~juergen/ijcai2011.pdf)\n",
    "\n",
    "MNIST is a great dataset for sanity checking your models, since the accuracy levels achieved by large convolutional neural networks and small linear models are both quite high. This makes it important to be familiar with the data.\n",
    "\n",
    "## Imports"
   ]
  },
  {
   "cell_type": "code",
   "execution_count": 2,
   "metadata": {},
   "outputs": [],
   "source": [
    "## This cell contains the essential imports you will need – DO NOT CHANGE THE CONTENTS! ##\n",
    "import torch\n",
    "import torch.nn as nn\n",
    "import torch.nn.functional as F\n",
    "import torch.optim as optim\n",
    "import torchvision\n",
    "import torchvision.transforms as transforms\n",
    "import matplotlib.pyplot as plt\n",
    "import numpy as np"
   ]
  },
  {
   "cell_type": "code",
   "execution_count": 2,
   "metadata": {},
   "outputs": [
    {
     "name": "stdout",
     "output_type": "stream",
     "text": [
      "CUDA is available!  Training on GPU ...\n"
     ]
    }
   ],
   "source": [
    "from torch.utils.data.sampler import SubsetRandomSampler\n",
    "\n",
    "train_on_gpu = torch.cuda.is_available()\n",
    "if not train_on_gpu:\n",
    "    print('CUDA is not available.  Training on CPU ...')\n",
    "else:\n",
    "    print('CUDA is available!  Training on GPU ...')"
   ]
  },
  {
   "cell_type": "code",
   "execution_count": 3,
   "metadata": {},
   "outputs": [],
   "source": [
    "# Helper functions\n",
    "\n",
    "def mean_std(dataset):\n",
    "    \"\"\"\n",
    "    Compute average mean and std across dataset to be used with transforms.Normalize\n",
    "    x -> float32 image tensor \n",
    "    \"\"\"\n",
    "    mean, std = [], []\n",
    "    for x,_ in dataset:\n",
    "        mean.append(x.mean([-2,-1]))\n",
    "        std.append(x.std([-2,-1]))\n",
    "    return (torch.tensor(mean, dtype=torch.float32).mean().item(), \n",
    "            torch.tensor(std, dtype=torch.float32).mean().item())\n",
    "\n",
    "\n",
    "def pixel_distribution(image, str='Pixel distribution'):\n",
    "    \"\"\" \n",
    "    Plot pixel values\n",
    "    \"\"\"\n",
    "    img_np = np.array(image)\n",
    "    plt.hist(img_np.ravel(), bins=50, density=True)\n",
    "    plt.xlabel('Pixel Values')\n",
    "    plt.ylabel('Frequency')\n",
    "    plt.title(str)\n",
    "\n",
    "def imshow(image, labels, title=None, normalize=False):\n",
    "    \"\"\"plot the firs 10 images from batch, along with the corresponding labels\n",
    "       if normalze = True , inverting normalization.\n",
    "    \"\"\"\n",
    "    image = np.array(image)\n",
    "    if normalize:\n",
    "        mean = np.array([0.1307])\n",
    "        std = np.array([0.3015])\n",
    "        image = std * image + mean\n",
    "        image = np.clip(image, 0, 1)\n",
    "\n",
    "    fig = plt.figure(figsize=(25, 4))\n",
    "\n",
    "    for idx in np.arange(10):\n",
    "        ax = fig.add_subplot(2, 10//2, idx+1, xticks=[], yticks=[])\n",
    "        ax.imshow(np.squeeze(image[idx]), cmap='gray')\n",
    "        ax.set_title(str(labels[idx].item()))\n",
    "    \n",
    "\n",
    "    return ax"
   ]
  },
  {
   "cell_type": "code",
   "execution_count": 5,
   "metadata": {},
   "outputs": [
    {
     "name": "stdout",
     "output_type": "stream",
     "text": [
      "-0.00013114688044879586 1.0000141859054565\n"
     ]
    }
   ],
   "source": [
    "#Mean and std to use with transforms.Normalize\n",
    "# download train data MNIST use transforms.ToTensor() only\n",
    "# compute mean and std mean_std(train_data)\n",
    "# update transforms with Normalize((mean), (std)) \n",
    "mean, std = mean_std(train_data)\n",
    "print(mean,std)"
   ]
  },
  {
   "cell_type": "markdown",
   "metadata": {},
   "source": [
    "## Load the Dataset\n",
    "\n",
    "Specify your transforms as a list if you intend to .\n",
    "The transforms module is already loaded as `transforms`.\n",
    "\n",
    "MNIST is fortunately included in the torchvision module.\n",
    "Then, you can create your dataset using the `MNIST` object from `torchvision.datasets` ([the documentation is available here](https://pytorch.org/vision/stable/datasets.html#mnist)).\n",
    "Make sure to specify `download=True`! \n",
    "\n",
    "Once your dataset is created, you'll also need to define a `DataLoader` from the `torch.utils.data` module for both the train and the test set."
   ]
  },
  {
   "cell_type": "code",
   "execution_count": 5,
   "metadata": {},
   "outputs": [],
   "source": [
    "from torch.utils.data import SubsetRandomSampler\n",
    "# Define transforms\n",
    "transform = transforms.Compose([transforms.ToTensor(), transforms.Normalize((0.1307),(0.3015))])\n",
    "\n",
    "# Create training set and define training dataloader\n",
    "train_data = torchvision.datasets.MNIST('./data', train=True, transform=transform, download=True)\n",
    "\n",
    "#use 10000 datapoints from train_data for validation\n",
    "idx = list(range(len(train_data)))\n",
    "np.random.shuffle(idx)\n",
    "train_idx, val_idx = idx[10000:], idx[:10000]\n",
    "train_sampler, val_sampler = SubsetRandomSampler(train_idx), SubsetRandomSampler(val_idx)\n",
    "\n",
    "#Create train and validation loaders\n",
    "train_loader = torch.utils.data.DataLoader(train_data, batch_size=64, sampler=train_sampler)\n",
    "val_loader = torch.utils.data.DataLoader(train_data, batch_size=64,sampler=val_sampler)\n",
    "\n",
    "# Create test set and define test dataloader\n",
    "test_data = torchvision.datasets.MNIST('./data', train=False,transform=transform,download=True )\n",
    "test_loader = torch.utils.data.DataLoader(test_data, batch_size=64, shuffle=True)"
   ]
  },
  {
   "cell_type": "code",
   "execution_count": 6,
   "metadata": {},
   "outputs": [
    {
     "name": "stdout",
     "output_type": "stream",
     "text": [
      "(50000, 10000)\n"
     ]
    }
   ],
   "source": [
    "#data points in test and val loaders\n",
    "print((len(train_loader.sampler), len(val_loader.sampler)))"
   ]
  },
  {
   "cell_type": "code",
   "execution_count": 7,
   "metadata": {},
   "outputs": [
    {
     "name": "stdout",
     "output_type": "stream",
     "text": [
      "torch.Size([64, 1, 28, 28]) torch.Size([64])\n"
     ]
    }
   ],
   "source": [
    "images, labels = next(iter(train_loader)) # get batch from train loaders\n",
    "print(images.shape, labels.shape)"
   ]
  },
  {
   "cell_type": "code",
   "execution_count": 8,
   "metadata": {},
   "outputs": [
    {
     "data": {
      "image/png": "[encoded data removed]",
      "text/plain": [
       "<Figure size 432x288 with 1 Axes>"
      ]
     },
     "metadata": {
      "needs_background": "light"
     },
     "output_type": "display_data"
    }
   ],
   "source": [
    "#Inverse Normalization\n",
    "image = np.array(images[0]) \n",
    "mean = np.array([0.1307])\n",
    "std = np.array([0.3015])\n",
    "image = std * image + mean\n",
    "image = np.clip(image, 0, 1)\n",
    "\n",
    "pixel_distribution(image, 'Pixel Distribution B4 normalization')"
   ]
  },
  {
   "cell_type": "code",
   "execution_count": 9,
   "metadata": {},
   "outputs": [
    {
     "data": {
      "text/plain": [
       "(0.20635873079299927, 1.2112230062484741)"
      ]
     },
     "execution_count": 9,
     "metadata": {},
     "output_type": "execute_result"
    },
    {
     "data": {
      "image/png": "[encoded data removed]",
      "text/plain": [
       "<Figure size 432x288 with 1 Axes>"
      ]
     },
     "metadata": {
      "needs_background": "light"
     },
     "output_type": "display_data"
    }
   ],
   "source": [
    "pixel_distribution(images[0],'Pixel Distribution after normalization')\n",
    "mean_std(zip([images[0]],[None]))# mean is around zero std is 1 "
   ]
  },
  {
   "cell_type": "markdown",
   "metadata": {},
   "source": [
    "## Justify your preprocessing\n",
    "\n",
    "In your own words, why did you choose the transforms you chose? If you didn't use any preprocessing steps, why not?"
   ]
  },
  {
   "cell_type": "markdown",
   "metadata": {},
   "source": [
    "**DOUBLE CLICK THIS CELL TO MODIFY**\n",
    "\n",
    "Preprocesing steps: \n",
    "1. ToTensor() build float32 image tensor from PIL images shape(1,28,28)\n",
    "2. calculate mean and standard deviation on train_data \n",
    "3. add transforms.Normalize((mean), (std)) \n",
    "4. using DataLoader class build test and train loaders \n",
    "5. visualize batch data -> helper functions \n",
    "6. batched shape (64,1,28,28) \n",
    "7. I have not flatten data at this moment shape in batch: (64,1,28,28) \n",
    "8. flattening tensor in forward pass "
   ]
  },
  {
   "cell_type": "markdown",
   "metadata": {},
   "source": [
    "## Explore the Dataset\n",
    "Using matplotlib, numpy, and torch, explore the dimensions of your data.\n",
    "\n",
    "You can view images using the `show5` function defined below – it takes a data loader as an argument.\n",
    "Remember that normalized images will look really weird to you! You may want to try changing your transforms to view images.\n",
    "Typically using no transforms other than `toTensor()` works well for viewing – but not as well for training your network.\n",
    "If `show5` doesn't work, go back and check your code for creating your data loaders and your training/test sets."
   ]
  },
  {
   "cell_type": "code",
   "execution_count": 10,
   "metadata": {},
   "outputs": [],
   "source": [
    "## This cell contains a function for showing 5 images from a dataloader – DO NOT CHANGE THE CONTENTS! ##\n",
    "def show5(img_loader):\n",
    "    dataiter = iter(img_loader)\n",
    "    \n",
    "    batch = next(dataiter)\n",
    "    labels = batch[1][0:5]\n",
    "    images = batch[0][0:5]\n",
    "    for i in range(5):\n",
    "        print(int(labels[i].detach()))\n",
    "    \n",
    "        image = images[i].numpy()\n",
    "        plt.imshow(image.T.squeeze().T)\n",
    "        plt.show()"
   ]
  },
  {
   "cell_type": "code",
   "execution_count": 11,
   "metadata": {},
   "outputs": [
    {
     "data": {
      "text/plain": [
       "<AxesSubplot:title={'center':'6'}>"
      ]
     },
     "execution_count": 11,
     "metadata": {},
     "output_type": "execute_result"
    },
    {
     "data": {
      "image/png": "[encoded data removed]",
      "text/plain": [
       "<Figure size 1800x288 with 10 Axes>"
      ]
     },
     "metadata": {},
     "output_type": "display_data"
    }
   ],
   "source": [
    "# Explore data\n",
    "imshow(images,labels,normalize=True)"
   ]
  },
  {
   "cell_type": "markdown",
   "metadata": {},
   "source": [
    "## Build your Neural Network\n",
    "Using the layers in `torch.nn` (which has been imported as `nn`) and the `torch.nn.functional` module (imported as `F`), construct a neural network based on the parameters of the dataset.\n",
    "Use any architecture you like. \n",
    "\n",
    "*Note*: If you did not flatten your tensors in your transforms or as part of your preprocessing and you are using only `Linear` layers, make sure to use the `Flatten` layer in your network!"
   ]
  },
  {
   "cell_type": "code",
   "execution_count": 9,
   "metadata": {},
   "outputs": [],
   "source": [
    "class Model(nn.Module):\n",
    "    def __init__(self, input_size, output_size, hidden_layers:list, dropout_p = 0.2) -> None:\n",
    "        super().__init__()\n",
    "\n",
    "        self.input_size=input_size\n",
    "        self.output_size=output_size\n",
    "        self.hidden_layers=hidden_layers\n",
    "\n",
    "        #Create module list and add input to hidden \n",
    "        self.modul_list = nn.ModuleList([nn.Linear(input_size, hidden_layers[0])])\n",
    "        #add hidden layers\n",
    "        sizes = zip(hidden_layers[:-1], hidden_layers[1:])\n",
    "        self.modul_list.extend([nn.Linear(x1,x2) for x1,x2 in sizes])\n",
    "        #add hidden to output\n",
    "        self.modul_list.extend([nn.Linear(hidden_layers[-1], output_size)])\n",
    "        #Dropout\n",
    "        self.dropout = nn.Dropout(p=dropout_p)\n",
    "\n",
    "    def forward(self, x):\n",
    "        #flatten x\n",
    "        x = x.view(x.shape[0], -1)\n",
    "\n",
    "        for fc in self.modul_list:\n",
    "            # run input trought fc layers with ReLU activation and Dropout\n",
    "            x = self.dropout(F.relu(fc(x)))\n",
    "        # Return log probabilities \n",
    "        return F.log_softmax(x, dim=1)"
   ]
  },
  {
   "cell_type": "markdown",
   "metadata": {},
   "source": [
    "Specify a loss function and an optimizer, and instantiate the model.\n",
    "\n",
    "If you use a less common loss function, please note why you chose that loss function in a comment."
   ]
  },
  {
   "cell_type": "code",
   "execution_count": 11,
   "metadata": {},
   "outputs": [
    {
     "data": {
      "text/plain": [
       "Model(\n",
       "  (modul_list): ModuleList(\n",
       "    (0): Linear(in_features=784, out_features=512, bias=True)\n",
       "    (1): Linear(in_features=512, out_features=256, bias=True)\n",
       "    (2): Linear(in_features=256, out_features=128, bias=True)\n",
       "    (3): Linear(in_features=128, out_features=64, bias=True)\n",
       "    (4): Linear(in_features=64, out_features=10, bias=True)\n",
       "  )\n",
       "  (dropout): Dropout(p=0.2, inplace=False)\n",
       ")"
      ]
     },
     "execution_count": 11,
     "metadata": {},
     "output_type": "execute_result"
    }
   ],
   "source": [
    "# using L2 Regularization \n",
    "net = Model(28*28, 10, [512, 256, 128, 64]) \n",
    "optimizer = optim.SGD(net.parameters(), lr=0.001, momentum=0.9, weight_decay=1e-5)\n",
    "criterion = nn.NLLLoss()# as model returns log probabilities \n",
    "net"
   ]
  },
  {
   "cell_type": "code",
   "execution_count": null,
   "metadata": {},
   "outputs": [],
   "source": [
    "# params in model\n",
    "sum([x.numel() for x in net.parameters() if x.requires_grad])"
   ]
  },
  {
   "cell_type": "markdown",
   "metadata": {},
   "source": [
    "## Running your Neural Network\n",
    "Use whatever method you like to train your neural network, and ensure you record the average loss at each epoch. \n",
    "Don't forget to use `torch.device()` and the `.to()` method for both your model and your data if you are using GPU!\n",
    "\n",
    "If you want to print your loss **during** each epoch, you can use the `enumerate` function and print the loss after a set number of batches. 250 batches works well for most people!"
   ]
  },
  {
   "cell_type": "code",
   "execution_count": 12,
   "metadata": {},
   "outputs": [
    {
     "name": "stdout",
     "output_type": "stream",
     "text": [
      "Epoch: 1/50...  Training Loss: 2.242...  Validation Loss: 1.992...  Accuracy: 0.3695\n",
      "Validation loss decreased (inf --> 1.992042).  Saving model ...\n",
      "\n",
      "Epoch: 2/50...  Training Loss: 1.793...  Validation Loss: 1.352...  Accuracy: 0.6064\n",
      "Validation loss decreased (1.992042 --> 1.351807).  Saving model ...\n",
      "\n",
      "Epoch: 3/50...  Training Loss: 1.36...  Validation Loss: 0.8313...  Accuracy: 0.779\n",
      "Validation loss decreased (1.351807 --> 0.831272).  Saving model ...\n",
      "\n",
      "Epoch: 4/50...  Training Loss: 1.119...  Validation Loss: 0.6439...  Accuracy: 0.8148\n",
      "Validation loss decreased (0.831272 --> 0.643922).  Saving model ...\n",
      "\n",
      "Epoch: 5/50...  Training Loss: 1.003...  Validation Loss: 0.5598...  Accuracy: 0.8297\n",
      "Validation loss decreased (0.643922 --> 0.559838).  Saving model ...\n",
      "\n",
      "Epoch: 6/50...  Training Loss: 0.9326...  Validation Loss: 0.4974...  Accuracy: 0.8404\n",
      "Validation loss decreased (0.559838 --> 0.497355).  Saving model ...\n",
      "\n",
      "Epoch: 7/50...  Training Loss: 0.8939...  Validation Loss: 0.4745...  Accuracy: 0.8449\n",
      "Validation loss decreased (0.497355 --> 0.474508).  Saving model ...\n",
      "\n",
      "Epoch: 8/50...  Training Loss: 0.8683...  Validation Loss: 0.4515...  Accuracy: 0.8503\n",
      "Validation loss decreased (0.474508 --> 0.451543).  Saving model ...\n",
      "\n",
      "Epoch: 9/50...  Training Loss: 0.8411...  Validation Loss: 0.4332...  Accuracy: 0.8543\n",
      "Validation loss decreased (0.451543 --> 0.433171).  Saving model ...\n",
      "\n",
      "Epoch: 10/50...  Training Loss: 0.8284...  Validation Loss: 0.4197...  Accuracy: 0.8581\n",
      "Validation loss decreased (0.433171 --> 0.419680).  Saving model ...\n",
      "\n",
      "Epoch: 11/50...  Training Loss: 0.8105...  Validation Loss: 0.4078...  Accuracy: 0.8606\n",
      "Validation loss decreased (0.419680 --> 0.407782).  Saving model ...\n",
      "\n",
      "Epoch: 12/50...  Training Loss: 0.757...  Validation Loss: 0.2034...  Accuracy: 0.9595\n",
      "Validation loss decreased (0.407782 --> 0.203406).  Saving model ...\n",
      "\n",
      "Epoch: 13/50...  Training Loss: 0.6286...  Validation Loss: 0.1677...  Accuracy: 0.9622\n",
      "Validation loss decreased (0.203406 --> 0.167659).  Saving model ...\n",
      "\n",
      "Epoch: 14/50...  Training Loss: 0.6065...  Validation Loss: 0.1502...  Accuracy: 0.9657\n",
      "Validation loss decreased (0.167659 --> 0.150205).  Saving model ...\n",
      "\n",
      "Epoch: 15/50...  Training Loss: 0.6019...  Validation Loss: 0.1439...  Accuracy: 0.9658\n",
      "Validation loss decreased (0.150205 --> 0.143884).  Saving model ...\n",
      "\n",
      "Epoch: 16/50...  Training Loss: 0.5833...  Validation Loss: 0.1332...  Accuracy: 0.9688\n",
      "Validation loss decreased (0.143884 --> 0.133240).  Saving model ...\n",
      "\n",
      "Epoch: 17/50...  Training Loss: 0.5726...  Validation Loss: 0.1356...  Accuracy: 0.9682\n",
      "below_treshold:  1\n",
      "\n",
      "Epoch: 18/50...  Training Loss: 0.5729...  Validation Loss: 0.1245...  Accuracy: 0.9709\n",
      "Validation loss decreased (0.133240 --> 0.124453).  Saving model ...\n",
      "\n",
      "Epoch: 19/50...  Training Loss: 0.558...  Validation Loss: 0.1225...  Accuracy: 0.9708\n",
      "Validation loss decreased (0.124453 --> 0.122502).  Saving model ...\n",
      "\n",
      "Epoch: 20/50...  Training Loss: 0.5612...  Validation Loss: 0.1191...  Accuracy: 0.972\n",
      "Validation loss decreased (0.122502 --> 0.119125).  Saving model ...\n",
      "\n",
      "Epoch: 21/50...  Training Loss: 0.5527...  Validation Loss: 0.1146...  Accuracy: 0.9731\n",
      "Validation loss decreased (0.119125 --> 0.114567).  Saving model ...\n",
      "\n",
      "Epoch: 22/50...  Training Loss: 0.5472...  Validation Loss: 0.1105...  Accuracy: 0.9743\n",
      "Validation loss decreased (0.114567 --> 0.110463).  Saving model ...\n",
      "\n",
      "Epoch: 23/50...  Training Loss: 0.5407...  Validation Loss: 0.112...  Accuracy: 0.9738\n",
      "below_treshold:  2\n",
      "\n",
      "Epoch: 24/50...  Training Loss: 0.5461...  Validation Loss: 0.1104...  Accuracy: 0.9736\n",
      "Validation loss decreased (0.110463 --> 0.110413).  Saving model ...\n",
      "\n",
      "below_treshold:  3\n",
      "\n",
      "\n",
      "Early Stoping Activated......Braking Training Loop......Please check Last Saved Model.......\n"
     ]
    }
   ],
   "source": [
    "# Training model with Early Stoping\n",
    "best_val_loss = float('inf')\n",
    "threshold = 0.001 # threshold for min performance improvement\n",
    "below_treshold, patience = 0, 3\n",
    "\n",
    "#recording train&val losses after each epoch\n",
    "train_loss_all, val_loss_all = [], []\n",
    "\n",
    "epochs = 50\n",
    "for e in range(epochs):\n",
    "\n",
    "    train_loss, train_accuracy = 0., 0. # use for epoch\n",
    "    net.train() # training mode\n",
    "    #Training loop\n",
    "    for images, labels in train_loader:\n",
    "        #check for GPU training\n",
    "        if not train_on_gpu:\n",
    "            images, labels, net = images.to('gpu'), labels.to('gpu'), net.to('gpu')\n",
    "\n",
    "        optimizer.zero_grad()\n",
    "        output = net(images)\n",
    "        loss = criterion(output, labels)\n",
    "        loss.backward()\n",
    "        optimizer.step()\n",
    "\n",
    "        train_loss += loss.item()\n",
    "        probs = torch.exp(output.detach())# get probabilities\n",
    "        _,idx = torch.max(probs, dim=1) # get prediction \n",
    "        train_accuracy += (idx==labels).type(torch.FloatTensor).mean().item()\n",
    "\n",
    "\n",
    "    #update variables after training loop\n",
    "    train_loss = train_loss / len(train_loader)\n",
    "    train_accuracy = train_accuracy / len(train_loader) # used mean to calculate accuracy\n",
    "    train_loss_all.append(train_loss)\n",
    "\n",
    "    \n",
    "    #Validation loop\n",
    "    val_loss, val_accuracy = 0., 0.\n",
    "    net.eval()\n",
    "    with torch.no_grad():\n",
    "        for images, labels in val_loader:\n",
    "\n",
    "            if not train_on_gpu:\n",
    "                images, labels, net = images.to('cuda'), labels.to('cuda'), net.to('cuda')\n",
    "\n",
    "            output = net(images)\n",
    "            loss = criterion(output, labels)\n",
    "            val_loss += loss.item()\n",
    "\n",
    "            probs = torch.exp(output)\n",
    "            _,idx = torch.topk(probs, k=1, dim=1)\n",
    "            equals = idx == labels.view(*idx.shape)\n",
    "            val_accuracy += torch.mean(equals.type(torch.FloatTensor)).item()\n",
    "\n",
    "            \n",
    "    # update variables after validation loop\n",
    "    val_loss = val_loss / len(val_loader)\n",
    "    val_accuracy = val_accuracy / len(val_loader)\n",
    "    val_loss_all.append(val_loss) \n",
    "\n",
    "\n",
    "    # print metrics\n",
    "    print(\n",
    "            'Epoch: {}/{}... '.format(e+1 , epochs),\n",
    "            'Training Loss: {:.4}... '.format(train_loss),\n",
    "            'Validation Loss: {:.4}... '.format(val_loss),\n",
    "            'Accuracy: {:.4}'.format(val_accuracy)\n",
    "        )\n",
    "\n",
    "    #Early Stoping Algorithm and auto saveing\n",
    "    diff = best_val_loss - val_loss # calculate loss improvement\n",
    "    #update best loss\n",
    "    if val_loss < best_val_loss:\n",
    "        #Saveing model paramiters after each epoch if val loss decreased\n",
    "        print('Validation loss decreased ({:.6f} --> {:.6f}).  Saving model ...'.format(\n",
    "        best_val_loss,\n",
    "        val_loss))\n",
    "        print()\n",
    "        torch.save(net.state_dict(), 'project1.pt')\n",
    "        best_val_loss=val_loss\n",
    "    #check treshold\n",
    "    if diff <= threshold:\n",
    "        below_treshold +=1\n",
    "        print('below_treshold: ', below_treshold)\n",
    "        print()\n",
    "        #check how many time below trashold and stop if needed\n",
    "        if below_treshold >= patience:\n",
    "            print()\n",
    "            print('Early Stoping Activated......Braking Training Loop......Please check Last Saved Model.......')\n",
    "            break \n"
   ]
  },
  {
   "cell_type": "markdown",
   "metadata": {},
   "source": [
    "Plot the training loss (and validation loss/accuracy, if recorded)."
   ]
  },
  {
   "cell_type": "code",
   "execution_count": 13,
   "metadata": {},
   "outputs": [
    {
     "data": {
      "text/plain": [
       "<matplotlib.legend.Legend at 0x7fcd93314890>"
      ]
     },
     "execution_count": 13,
     "metadata": {},
     "output_type": "execute_result"
    },
    {
     "data": {
      "image/png": "[encoded data removed]",
      "text/plain": [
       "<Figure size 432x288 with 1 Axes>"
      ]
     },
     "metadata": {
      "needs_background": "light"
     },
     "output_type": "display_data"
    }
   ],
   "source": [
    "plt.plot(train_loss_all, label='Traininh Loss')\n",
    "plt.plot(val_loss_all, label='Validation Loss')\n",
    "plt.legend(frameon=False)"
   ]
  },
  {
   "cell_type": "markdown",
   "metadata": {},
   "source": [
    "## Testing your model\n",
    "Using the previously created `DataLoader` for the test set, compute the percentage of correct predictions using the highest probability prediction. \n",
    "\n",
    "If your accuracy is over 90%, great work, but see if you can push a bit further! \n",
    "If your accuracy is under 90%, you'll need to make improvements.\n",
    "Go back and check your model architecture, loss function, and optimizer to make sure they're appropriate for an image classification task."
   ]
  },
  {
   "cell_type": "code",
   "execution_count": 14,
   "metadata": {},
   "outputs": [
    {
     "name": "stdout",
     "output_type": "stream",
     "text": [
      "Test Accuracy of 0: 99% -> (972/980)\n",
      "Test Accuracy of 1: 99% -> (1124/1135)\n",
      "Test Accuracy of 2: 97% -> (1010/1032)\n",
      "Test Accuracy of 3: 97% -> (984/1010)\n",
      "Test Accuracy of 4: 96% -> (950/982)\n",
      "Test Accuracy of 5: 97% -> (870/892)\n",
      "Test Accuracy of 6: 97% -> (937/958)\n",
      "Test Accuracy of 7: 96% -> (997/1028)\n",
      "Test Accuracy of 8: 96% -> (943/974)\n",
      "Test Accuracy of 9: 95% -> (965/1009)\n",
      "\n",
      "Test accuracy: 0.975......Test Loss: 0.103\n"
     ]
    }
   ],
   "source": [
    "#Test model\n",
    "classes = list(range(10))\n",
    "class_correct = list(0. for i in range(10))\n",
    "class_total = list(0. for i in range(10))\n",
    "test_loss, test_accuracy = 0.,0.\n",
    "\n",
    "net.eval()\n",
    "with torch.no_grad():\n",
    "    for images, labels in test_loader:\n",
    "        output = net(images)\n",
    "        test_loss += criterion(output, labels).item()\n",
    "        probs = torch.exp(output)\n",
    "        _,preds = torch.max(probs, dim=1)\n",
    "        correct = preds.eq(labels)\n",
    "        test_accuracy += correct.sum().item()\n",
    "\n",
    "        #compute accuracy for each digit\n",
    "        for i in range(images.size(0)):\n",
    "            idx = labels[i]\n",
    "            class_correct[idx] += correct[i].item()\n",
    "            class_total[idx] += 1\n",
    "\n",
    "# print metricks\n",
    "for i in range(10):\n",
    "    if class_total[i] > 0:\n",
    "        print('Test Accuracy of %s: %d%% -> (%2d/%2d)'% \n",
    "        (str(i), 100*class_correct[i] / class_total[i], class_correct[i], class_total[i]))\n",
    "    else:\n",
    "        print('Test Accuracy of %5s: N/A (no training examples)' % (classes[i]))\n",
    "\n",
    "print('\\nTest accuracy: {}......Test Loss: {}'.format(\n",
    "        round(test_accuracy / len(test_loader.dataset), 3), \n",
    "        round(test_loss / len(test_loader), 3)))\n"
   ]
  },
  {
   "cell_type": "markdown",
   "metadata": {},
   "source": [
    "## Improving your model\n",
    "\n",
    "Once your model is done training, try tweaking your hyperparameters and training again below to improve your accuracy on the test set!"
   ]
  },
  {
   "cell_type": "markdown",
   "metadata": {},
   "source": [
    "I tried different optimizers like Adam, and different learning rate "
   ]
  },
  {
   "cell_type": "markdown",
   "metadata": {},
   "source": [
    "## Saving your model\n",
    "Using `torch.save`, save your model for future loading."
   ]
  },
  {
   "cell_type": "code",
   "execution_count": 15,
   "metadata": {},
   "outputs": [],
   "source": [
    "#Saveing model\n",
    "checkpoint = {'input_size':net.input_size,\n",
    "              'output_size':net.output_size,\n",
    "              'hidden_layers': [each for each in net.hidden_layers],\n",
    "              'state_dict' : net.state_dict()}\n",
    "torch.save(checkpoint, 'checkpoint.pth')"
   ]
  },
  {
   "cell_type": "code",
   "execution_count": 16,
   "metadata": {},
   "outputs": [],
   "source": [
    "#Load model \n",
    "file_path = 'checkpoint.pth'\n",
    "def load_checkpoint(file_path):\n",
    "    checkpoint = torch.load(file_path)\n",
    "    model = Model(checkpoint['input_size'],\n",
    "                    checkpoint['output_size'],\n",
    "                    checkpoint['hidden_layers'])\n",
    "    model.load_state_dict(checkpoint['state_dict'])\n",
    "    return model"
   ]
  },
  {
   "cell_type": "code",
   "execution_count": null,
   "metadata": {},
   "outputs": [],
   "source": [
    "net = load_checkpoint(file_path=file_path)"
   ]
  },
  {
   "cell_type": "code",
   "execution_count": null,
   "metadata": {},
   "outputs": [],
   "source": [
    "# to be used with NETRON for visualization\n",
    "scripted = torch.jit.script(net)\n",
    "torch.jit.save(scripted, 'mnist_net.pt')"
   ]
  }
 ],
 "metadata": {
  "kernelspec": {
   "display_name": "Python 3",
   "language": "python",
   "name": "python3"
  },
  "language_info": {
   "codemirror_mode": {
    "name": "ipython",
    "version": 3
   },
   "file_extension": ".py",
   "mimetype": "text/x-python",
   "name": "python",
   "nbconvert_exporter": "python",
   "pygments_lexer": "ipython3",
   "version": "3.10.6"
  }
 },
 "nbformat": 4,
 "nbformat_minor": 4
}
